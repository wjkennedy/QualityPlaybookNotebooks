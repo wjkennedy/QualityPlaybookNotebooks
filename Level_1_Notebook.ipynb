{
  "nbformat": 4,
  "nbformat_minor": 5,
  "metadata": {
    "noteable-chatgpt": {
      "create_notebook": {
        "openai_conversation_id": "cf32eea5-5306-56b9-af53-cd0ff245e001",
        "openai_ephemeral_user_id": "6e0de5be-ff09-5930-90fb-69f73f3175a3",
        "openai_subdivision1_iso_code": "US-IL"
      }
    },
    "kernel_info": {
      "name": "python3"
    },
    "noteable": {
      "last_transaction_id": "84d20f1a-5e66-44bb-bc8b-774e1e2b0710"
    },
    "kernelspec": {
      "display_name": "Python 3.9",
      "language": "python",
      "name": "python3"
    },
    "selected_hardware_size": "small"
  },
  "cells": [
    {
      "id": "8b3b4701-44e1-4454-8549-843dae926255",
      "cell_type": "markdown",
      "source": "# Level 1 Software Quality Notebook\n",
      "metadata": {
        "noteable": {
          "cell_type": "markdown"
        }
      }
    },
    {
      "id": "8c6668f7-a2e4-4a79-b24f-47dfaa39e6af",
      "cell_type": "markdown",
      "source": "### General Introduction\n---\n#### Purpose of the Notebooks\nThese notebooks are part of a comprehensive framework designed to measure software quality metrics and implement corresponding controls in Jira. By integrating with Jira, GitHub, and other internal systems, the notebooks facilitate the collection, cleaning, and processing of data to derive meaningful insights.\n\nThe data products generated through these notebooks follow a multi-level structure, ranging from Level 0 to Level 4:\n\n- **Level 0**: Raw data as collected from the sources.\n- **Level 1**: Cleaned and calibrated data.\n- **Level 2**: Data joined with additional sources.\n- **Level 3**: Aggregated and summarized data.\n- **Level 4**: Analyzed data with insights and visualizations.\n\nThe notebooks adhere to standards and definitions inspired by organizations such as NASA, NEON, and NIST, ensuring quality, consistency, and reliability.\n\n### Specific Introduction\n---\n#### Purpose of the Level 1 Notebook\nThe Level 1 Notebook focuses on cleaning and calibrating the raw data collected in Level 0. This includes handling missing values, correcting errors, standardizing formats, and calibrating measurements.\n\n**Key Objectives**:\n\n- **Import Raw Data**: Retrieve raw data from Level 0, including Jira issues, GitHub Smart Commits, defects, QA failures, team structures, and individual contributors.\n- **Identify Primary Key**: Determine the primary key to be used throughout the notebooks for consistent data linking and integrity.\n- **Normalize Date Formats**: Ensure clean time-series data by standardizing date formats across all data sources.\n- **Clean and Calibrate Data**: Perform cleaning and calibration tasks to prepare the data for further processing in subsequent levels.\n\nBy successfully accomplishing these objectives, the Level 1 Notebook ensures that the data is cleaned, calibrated, and ready for joining with additional sources in the next levels.",
      "metadata": {
        "noteable": {
          "cell_type": "markdown"
        }
      }
    },
    {
      "id": "f5caa684-65d9-45a7-9459-0c0be4eb25f6",
      "cell_type": "code",
      "metadata": {
        "noteable": {
          "cell_type": "code",
          "output_collection_id": "7898eb62-9a4e-4362-b363-6bc1e1177833"
        },
        "ExecuteTime": {
          "end_time": "2023-08-18T12:31:44.675695+00:00",
          "start_time": "2023-08-18T12:31:44.460362+00:00"
        },
        "datalink": {
          "6c486fa3-2b10-4254-9228-bf80459b6eef": {
            "applied_filters": [],
            "dataframe_info": {
              "default_index_used": true,
              "orig_num_cols": 5,
              "orig_num_rows": 3,
              "orig_size_bytes": 144,
              "truncated_num_cols": 5,
              "truncated_num_rows": 3,
              "truncated_size_bytes": 144,
              "truncated_string_columns": []
            },
            "display_id": "6c486fa3-2b10-4254-9228-bf80459b6eef",
            "dx_settings": {
              "ALLOW_NOTEABLE_ATTRS": true,
              "COLUMN_SAMPLING_METHOD": "outer",
              "DB_LOCATION": ":memory:",
              "DEV_MODE": false,
              "DISPLAY_MAX_COLUMNS": 100,
              "DISPLAY_MAX_ROWS": 50000,
              "DISPLAY_MODE": "simple",
              "ENABLE_ASSIGNMENT": true,
              "ENABLE_DATALINK": true,
              "FLATTEN_COLUMN_VALUES": true,
              "FLATTEN_INDEX_VALUES": false,
              "GENERATE_DEX_METADATA": false,
              "HTML_TABLE_SCHEMA": false,
              "LOG_LEVEL": 30,
              "MAX_RENDER_SIZE_BYTES": 104857600,
              "MAX_STRING_LENGTH": 250,
              "NUM_PAST_SAMPLES_TRACKED": 3,
              "RANDOM_STATE": 12648430,
              "RESET_INDEX_VALUES": false,
              "ROW_SAMPLING_METHOD": "random",
              "SAMPLING_FACTOR": 0.1,
              "SAMPLING_METHOD": "random",
              "STRINGIFY_COLUMN_VALUES": true,
              "STRINGIFY_INDEX_VALUES": false
            },
            "sample_history": [],
            "sampling_time": "2023-08-18T12:31:44.516865",
            "user_variable_name": "jira_issues_df",
            "variable_name": "jira_issues_df"
          }
        }
      },
      "execution_count": null,
      "source": "import pandas as pd\n\n# Simulating raw data for Jira Issues\njira_issues_data = {\n    'issue_id': ['ISSUE-101', 'ISSUE-102', 'ISSUE-103'],\n    'title': ['Feature Request', 'Bug Fix', 'Documentation Update'],\n    'status': ['Open', 'In Progress', 'Closed'],\n    'assignee': ['Alice', 'Bob', 'Charlie'],\n    'creation_date': ['2022-01-01', '2022-02-15', '2022-03-10']\n}\n\n# Creating a DataFrame for Jira Issues\njira_issues_df = pd.DataFrame(jira_issues_data)\n\n# Displaying the DataFrame\njira_issues_df",
      "outputs": []
    },
    {
      "id": "50fab03f-5e6d-409e-84d9-b23a38ca5bcc",
      "cell_type": "code",
      "metadata": {
        "noteable": {
          "cell_type": "code",
          "output_collection_id": "f983fb9b-1b4a-4da0-9aa6-197b04ec3d4e"
        },
        "ExecuteTime": {
          "end_time": "2023-08-18T12:31:48.578939+00:00",
          "start_time": "2023-08-18T12:31:48.365066+00:00"
        },
        "datalink": {
          "3239ffa4-c69a-4032-8ea8-ed414daf4dc3": {
            "applied_filters": [],
            "dataframe_info": {
              "default_index_used": true,
              "orig_num_cols": 4,
              "orig_num_rows": 3,
              "orig_size_bytes": 120,
              "truncated_num_cols": 4,
              "truncated_num_rows": 3,
              "truncated_size_bytes": 120,
              "truncated_string_columns": []
            },
            "display_id": "3239ffa4-c69a-4032-8ea8-ed414daf4dc3",
            "dx_settings": {
              "ALLOW_NOTEABLE_ATTRS": true,
              "COLUMN_SAMPLING_METHOD": "outer",
              "DB_LOCATION": ":memory:",
              "DEV_MODE": false,
              "DISPLAY_MAX_COLUMNS": 100,
              "DISPLAY_MAX_ROWS": 50000,
              "DISPLAY_MODE": "simple",
              "ENABLE_ASSIGNMENT": true,
              "ENABLE_DATALINK": true,
              "FLATTEN_COLUMN_VALUES": true,
              "FLATTEN_INDEX_VALUES": false,
              "GENERATE_DEX_METADATA": false,
              "HTML_TABLE_SCHEMA": false,
              "LOG_LEVEL": 30,
              "MAX_RENDER_SIZE_BYTES": 104857600,
              "MAX_STRING_LENGTH": 250,
              "NUM_PAST_SAMPLES_TRACKED": 3,
              "RANDOM_STATE": 12648430,
              "RESET_INDEX_VALUES": false,
              "ROW_SAMPLING_METHOD": "random",
              "SAMPLING_FACTOR": 0.1,
              "SAMPLING_METHOD": "random",
              "STRINGIFY_COLUMN_VALUES": true,
              "STRINGIFY_INDEX_VALUES": false
            },
            "sample_history": [],
            "sampling_time": "2023-08-18T12:31:48.421330",
            "user_variable_name": "smart_commits_df",
            "variable_name": "smart_commits_df"
          }
        }
      },
      "execution_count": null,
      "source": "# Simulating raw data for GitHub Smart Commits\nsmart_commits_data = {\n    'commit_id': ['COMMIT-001', 'COMMIT-002', 'COMMIT-003'],\n    'author': ['Alice', 'Bob', 'Charlie'],\n    'date': ['2022-01-05', '2022-02-20', '2022-03-15'],\n    'jira_issue': ['ISSUE-101', 'ISSUE-102', 'ISSUE-103']\n}\n\n# Creating a DataFrame for GitHub Smart Commits\nsmart_commits_df = pd.DataFrame(smart_commits_data)\n\n# Displaying the DataFrame\nsmart_commits_df",
      "outputs": []
    },
    {
      "id": "42c41c4f-6524-4628-93a0-1f0acaad1f58",
      "cell_type": "code",
      "metadata": {
        "noteable": {
          "cell_type": "code",
          "output_collection_id": "a5246e78-9b90-49f4-afa0-61c3cb6ceba9"
        },
        "ExecuteTime": {
          "end_time": "2023-08-18T12:31:52.865535+00:00",
          "start_time": "2023-08-18T12:31:52.652823+00:00"
        },
        "datalink": {
          "2e270e37-a156-4e9d-859d-8734904c95a2": {
            "applied_filters": [],
            "dataframe_info": {
              "default_index_used": true,
              "orig_num_cols": 5,
              "orig_num_rows": 3,
              "orig_size_bytes": 144,
              "truncated_num_cols": 5,
              "truncated_num_rows": 3,
              "truncated_size_bytes": 144,
              "truncated_string_columns": []
            },
            "display_id": "2e270e37-a156-4e9d-859d-8734904c95a2",
            "dx_settings": {
              "ALLOW_NOTEABLE_ATTRS": true,
              "COLUMN_SAMPLING_METHOD": "outer",
              "DB_LOCATION": ":memory:",
              "DEV_MODE": false,
              "DISPLAY_MAX_COLUMNS": 100,
              "DISPLAY_MAX_ROWS": 50000,
              "DISPLAY_MODE": "simple",
              "ENABLE_ASSIGNMENT": true,
              "ENABLE_DATALINK": true,
              "FLATTEN_COLUMN_VALUES": true,
              "FLATTEN_INDEX_VALUES": false,
              "GENERATE_DEX_METADATA": false,
              "HTML_TABLE_SCHEMA": false,
              "LOG_LEVEL": 30,
              "MAX_RENDER_SIZE_BYTES": 104857600,
              "MAX_STRING_LENGTH": 250,
              "NUM_PAST_SAMPLES_TRACKED": 3,
              "RANDOM_STATE": 12648430,
              "RESET_INDEX_VALUES": false,
              "ROW_SAMPLING_METHOD": "random",
              "SAMPLING_FACTOR": 0.1,
              "SAMPLING_METHOD": "random",
              "STRINGIFY_COLUMN_VALUES": true,
              "STRINGIFY_INDEX_VALUES": false
            },
            "sample_history": [],
            "sampling_time": "2023-08-18T12:31:52.707746",
            "user_variable_name": "defects_df",
            "variable_name": "defects_df"
          }
        }
      },
      "execution_count": null,
      "source": "# Simulating raw data for Defects and QA Failures\ndefects_data = {\n    'defect_id': ['DEF-001', 'DEF-002', 'DEF-003'],\n    'description': ['Null Pointer Exception', 'UI Misalignment', 'Security Vulnerability'],\n    'severity': ['High', 'Medium', 'Critical'],\n    'status': ['Open', 'Resolved', 'Closed'],\n    'discovery_date': ['2022-01-10', '2022-02-25', '2022-03-20']\n}\n\n# Creating a DataFrame for Defects and QA Failures\ndefects_df = pd.DataFrame(defects_data)\n\n# Displaying the DataFrame\ndefects_df",
      "outputs": []
    },
    {
      "id": "b4495295-16fa-4aee-93c6-c58ac5ae54a6",
      "cell_type": "code",
      "metadata": {
        "noteable": {
          "cell_type": "code",
          "output_collection_id": "7cc72751-e84b-4c9e-b922-b2d720759e88"
        },
        "ExecuteTime": {
          "end_time": "2023-08-18T12:31:57.557161+00:00",
          "start_time": "2023-08-18T12:31:57.385446+00:00"
        }
      },
      "execution_count": null,
      "source": "# Simulating raw data for Team Structures and Individual Contributors\nteam_data = {\n    'team_id': ['TEAM-001', 'TEAM-002', 'TEAM-003'],\n    'team_name': ['Development', 'QA', 'Security'],\n    'git_repo': ['Repo-Dev', 'Repo-QA', 'Repo-Sec'],\n    'jira_project': ['PROJECT-DEV', 'PROJECT-QA', 'PROJECT-SEC']\n}\n\n# Creating a DataFrame for Team Structures and Individual Contributors\nteam_df = pd.DataFrame(team_data)\n\n# Simulating raw data for Customer Feedback (Amplitude, Qualtrics, Call Miner)\ncustomer_feedback_data = {\n    'customer_id': ['CUST-001', 'CUST-002', 'CUST-003'],\n    'source': ['Amplitude', 'Qualtrics', 'Call Miner'],\n    'feedback_type': ['Survey', 'Survey', 'Call Transcript'],\n    'feedback_content': ['Positive', 'Neutral', 'Negative'],\n    'date': ['2022-01-15', '2022-02-28', '2022-03-25']\n}\n\n# Creating a DataFrame for Customer Feedback\ncustomer_feedback_df = pd.DataFrame(customer_feedback_data)\n\n# Displaying the DataFrames\nteam_df, customer_feedback_df",
      "outputs": []
    },
    {
      "id": "09a88ebe-9df8-4685-a7b2-5d5735c2e0ae",
      "cell_type": "code",
      "metadata": {
        "noteable": {
          "cell_type": "code",
          "output_collection_id": "b2221157-58e8-451a-a4a4-5d8f1dd2a325"
        },
        "ExecuteTime": {
          "end_time": "2023-08-18T12:32:01.376695+00:00",
          "start_time": "2023-08-18T12:32:01.206912+00:00"
        }
      },
      "execution_count": null,
      "source": "# Displaying the simulated datasets to analyze common elements and relationships\nsmart_commits_df, defects_df, team_df, customer_feedback_df",
      "outputs": []
    }
  ]
}