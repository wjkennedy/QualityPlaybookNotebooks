{
  "nbformat": 4,
  "nbformat_minor": 5,
  "metadata": {
    "noteable-chatgpt": {
      "create_notebook": {
        "openai_conversation_id": "cf32eea5-5306-56b9-af53-cd0ff245e001",
        "openai_ephemeral_user_id": "6e0de5be-ff09-5930-90fb-69f73f3175a3",
        "openai_subdivision1_iso_code": "US-IL"
      }
    },
    "kernel_info": {
      "name": "python3"
    },
    "noteable": {
      "last_transaction_id": "942abb30-bc8b-42b4-b309-8331eb0a92ac"
    },
    "kernelspec": {
      "display_name": "Python 3.9",
      "language": "python",
      "name": "python3"
    },
    "selected_hardware_size": "small",
    "display_mode": "fullwidth"
  },
  "cells": [
    {
      "id": "f7849702-6d19-41ab-a504-04b62135157d",
      "cell_type": "markdown",
      "source": "# Level 0 Software Quality Notebook\n",
      "metadata": {
        "noteable": {
          "cell_type": "markdown"
        }
      }
    },
    {
      "id": "36caf6e4-8c7a-4959-a29c-756c2ad8e592",
      "cell_type": "markdown",
      "source": "### General Introduction\n---\n#### Purpose of the Notebooks\nThese notebooks are part of a comprehensive framework designed to measure software quality metrics and implement corresponding controls in Jira. By integrating with Jira, GitHub, and other internal systems, the notebooks facilitate the collection, cleaning, and processing of data to derive meaningful insights.\n\nThe data products generated through these notebooks follow a multi-level structure, ranging from Level 0 to Level 4:\n\n- **Level 0**: Raw data as collected from the sources.\n- **Level 1**: Cleaned and calibrated data.\n- **Level 2**: Data joined with additional sources.\n- **Level 3**: Aggregated and summarized data.\n- **Level 4**: Analyzed data with insights and visualizations.\n\nThe notebooks adhere to standards and definitions inspired by organizations such as NASA, NEON, and NIST, ensuring quality, consistency, and reliability.\n\n### Specific Introduction\n---\n#### Purpose of the Level 0 Notebook\nThe Level 0 Notebook focuses on the initial phase of data collection. It serves as the starting point for the entire data processing pipeline, laying the foundation for subsequent levels.\n\n**Key Objectives**:\n\n- **Connect to Jira and GitHub**: Establish secure connections to Jira using OAuth 1.0 and access GitHub data through Jira Smart Commits or a service account API key.\n- **Collect Raw Data**: Retrieve raw data from Jira, GitHub, and internal systems, including issues, Smart Commits, code reviews, defects, QA failures, and more.\n- **Explore Data Structure**: Understand the structure and content of the raw data to prepare for cleaning and processing in the next levels.\n\nBy successfully accomplishing these objectives, the Level 0 Notebook ensures that the raw data is accurately collected and ready for further processing.",
      "metadata": {
        "noteable": {
          "cell_type": "markdown"
        }
      }
    },
    {
      "id": "20cb8361-7a13-4bf3-8ce2-ac1284951363",
      "cell_type": "code",
      "metadata": {
        "noteable": {
          "cell_type": "code",
          "output_collection_id": "90c929df-1a99-4fcf-8c8d-70cead07d612"
        },
        "ExecuteTime": {
          "end_time": "2023-08-18T11:26:35.596927+00:00",
          "start_time": "2023-08-18T11:26:29.641816+00:00"
        }
      },
      "execution_count": null,
      "source": "!pip install -q jira requests_oauthlib",
      "outputs": []
    },
    {
      "id": "2a2ec2e9-34aa-4101-b4b3-33d8191f1c86",
      "cell_type": "code",
      "metadata": {
        "noteable": {
          "cell_type": "code",
          "output_collection_id": "5f919366-5457-48c6-ba75-a01e4e2a5d4e"
        },
        "ExecuteTime": {
          "end_time": "2023-08-18T11:27:17.253772+00:00",
          "start_time": "2023-08-18T11:27:16.795642+00:00"
        }
      },
      "execution_count": null,
      "source": "from jira import JIRA\nfrom requests_oauthlib import OAuth1Session\nimport configparser\n\n# Read configuration details from config.properties\nconfig = configparser.ConfigParser()\nconfig.read('config.properties')\nconsumer_key = config['OAuth']['consumer_key']\naccess_token = config['OAuth']['access_token']\nserver_url = config['Jira']['server_url']\ncert_file = 'jira.pem'\n\n# Set up OAuth 1.0 session\noauth = OAuth1Session(consumer_key, resource_owner_key=access_token)\njira_options = {'server': server_url}\njira = JIRA(options=jira_options, oauth=oauth)\n\n# Test the connection by fetching a sample of issues\nissues = jira.search_issues('project=PROJECT_KEY', maxResults=5)\nissues",
      "outputs": []
    }
  ]
}